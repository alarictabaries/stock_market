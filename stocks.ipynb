{
 "cells":[
  {
   "cell_type":"code",
   "source":[
    "!pip install yfinance\n",
    "!pip install matplotlib\n",
    "!pip install seaborn\n",
    "import yfinance as yf\n",
    "import matplotlib.pyplot as plt\n",
    "import seaborn as sns"
   ],
   "execution_count":38,
   "outputs":[
    {
     "name":"stdout",
     "text":[
      "Requirement already satisfied: yfinance in \/opt\/python\/envs\/default\/lib\/python3.8\/site-packages (0.1.74)\r\n",
      "Requirement already satisfied: pandas>=0.24.0 in \/opt\/python\/envs\/default\/lib\/python3.8\/site-packages (from yfinance) (1.3.5)\r\n",
      "Requirement already satisfied: multitasking>=0.0.7 in \/opt\/python\/envs\/default\/lib\/python3.8\/site-packages (from yfinance) (0.0.11)\r\n",
      "Requirement already satisfied: numpy>=1.15 in \/opt\/python\/envs\/default\/lib\/python3.8\/site-packages (from yfinance) (1.21.5)\r\n",
      "Requirement already satisfied: requests>=2.26 in \/opt\/python\/envs\/default\/lib\/python3.8\/site-packages (from yfinance) (2.26.0)\r\n",
      "Requirement already satisfied: lxml>=4.5.1 in \/opt\/python\/envs\/default\/lib\/python3.8\/site-packages (from yfinance) (4.7.1)\r\n",
      "Requirement already satisfied: pytz>=2017.3 in \/opt\/python\/envs\/default\/lib\/python3.8\/site-packages (from pandas>=0.24.0->yfinance) (2022.1)\r\n",
      "Requirement already satisfied: python-dateutil>=2.7.3 in \/opt\/python\/envs\/default\/lib\/python3.8\/site-packages (from pandas>=0.24.0->yfinance) (2.8.2)\r\n",
      "Requirement already satisfied: charset-normalizer~=2.0.0 in \/opt\/python\/envs\/default\/lib\/python3.8\/site-packages (from requests>=2.26->yfinance) (2.0.12)\r\n",
      "Requirement already satisfied: urllib3<1.27,>=1.21.1 in \/opt\/python\/envs\/default\/lib\/python3.8\/site-packages (from requests>=2.26->yfinance) (1.26.9)\r\n",
      "Requirement already satisfied: certifi>=2017.4.17 in \/opt\/python\/envs\/default\/lib\/python3.8\/site-packages (from requests>=2.26->yfinance) (2022.6.15)\r\n",
      "Requirement already satisfied: idna<4,>=2.5 in \/opt\/python\/envs\/default\/lib\/python3.8\/site-packages (from requests>=2.26->yfinance) (3.3)\r\n",
      "Requirement already satisfied: six>=1.5 in \/opt\/python\/envs\/default\/lib\/python3.8\/site-packages (from python-dateutil>=2.7.3->pandas>=0.24.0->yfinance) (1.16.0)\r\n",
      "\u001b[33mWARNING: You are using pip version 21.3.1; however, version 22.2 is available.\r\n",
      "You should consider upgrading via the '\/opt\/python\/envs\/default\/bin\/python -m pip install --upgrade pip' command.\u001b[0m\r\n",
      "Requirement already satisfied: matplotlib in \/opt\/python\/envs\/default\/lib\/python3.8\/site-packages (3.5.1)\r\n",
      "Requirement already satisfied: numpy>=1.17 in \/opt\/python\/envs\/default\/lib\/python3.8\/site-packages (from matplotlib) (1.21.5)\r\n",
      "Requirement already satisfied: cycler>=0.10 in \/opt\/python\/envs\/default\/lib\/python3.8\/site-packages (from matplotlib) (0.11.0)\r\n",
      "Requirement already satisfied: packaging>=20.0 in \/opt\/python\/envs\/default\/lib\/python3.8\/site-packages (from matplotlib) (21.3)\r\n",
      "Requirement already satisfied: fonttools>=4.22.0 in \/opt\/python\/envs\/default\/lib\/python3.8\/site-packages (from matplotlib) (4.33.3)\r\n",
      "Requirement already satisfied: kiwisolver>=1.0.1 in \/opt\/python\/envs\/default\/lib\/python3.8\/site-packages (from matplotlib) (1.4.3)\r\n",
      "Requirement already satisfied: pyparsing>=2.2.1 in \/opt\/python\/envs\/default\/lib\/python3.8\/site-packages (from matplotlib) (3.0.9)\r\n",
      "Requirement already satisfied: pillow>=6.2.0 in \/opt\/python\/envs\/default\/lib\/python3.8\/site-packages (from matplotlib) (9.1.1)\r\n",
      "Requirement already satisfied: python-dateutil>=2.7 in \/opt\/python\/envs\/default\/lib\/python3.8\/site-packages (from matplotlib) (2.8.2)\r\n",
      "Requirement already satisfied: six>=1.5 in \/opt\/python\/envs\/default\/lib\/python3.8\/site-packages (from python-dateutil>=2.7->matplotlib) (1.16.0)\r\n",
      "\u001b[33mWARNING: You are using pip version 21.3.1; however, version 22.2 is available.\r\n",
      "You should consider upgrading via the '\/opt\/python\/envs\/default\/bin\/python -m pip install --upgrade pip' command.\u001b[0m\r\n",
      "Requirement already satisfied: seaborn in \/opt\/python\/envs\/default\/lib\/python3.8\/site-packages (0.11.2)\r\n",
      "Requirement already satisfied: numpy>=1.15 in \/opt\/python\/envs\/default\/lib\/python3.8\/site-packages (from seaborn) (1.21.5)\r\n",
      "Requirement already satisfied: matplotlib>=2.2 in \/opt\/python\/envs\/default\/lib\/python3.8\/site-packages (from seaborn) (3.5.1)\r\n",
      "Requirement already satisfied: scipy>=1.0 in \/opt\/python\/envs\/default\/lib\/python3.8\/site-packages (from seaborn) (1.7.3)\r\n",
      "Requirement already satisfied: pandas>=0.23 in \/opt\/python\/envs\/default\/lib\/python3.8\/site-packages (from seaborn) (1.3.5)\r\n",
      "Requirement already satisfied: pillow>=6.2.0 in \/opt\/python\/envs\/default\/lib\/python3.8\/site-packages (from matplotlib>=2.2->seaborn) (9.1.1)\r\n",
      "Requirement already satisfied: fonttools>=4.22.0 in \/opt\/python\/envs\/default\/lib\/python3.8\/site-packages (from matplotlib>=2.2->seaborn) (4.33.3)\r\n",
      "Requirement already satisfied: packaging>=20.0 in \/opt\/python\/envs\/default\/lib\/python3.8\/site-packages (from matplotlib>=2.2->seaborn) (21.3)\r\n",
      "Requirement already satisfied: python-dateutil>=2.7 in \/opt\/python\/envs\/default\/lib\/python3.8\/site-packages (from matplotlib>=2.2->seaborn) (2.8.2)\r\n",
      "Requirement already satisfied: cycler>=0.10 in \/opt\/python\/envs\/default\/lib\/python3.8\/site-packages (from matplotlib>=2.2->seaborn) (0.11.0)\r\n",
      "Requirement already satisfied: kiwisolver>=1.0.1 in \/opt\/python\/envs\/default\/lib\/python3.8\/site-packages (from matplotlib>=2.2->seaborn) (1.4.3)\r\n",
      "Requirement already satisfied: pyparsing>=2.2.1 in \/opt\/python\/envs\/default\/lib\/python3.8\/site-packages (from matplotlib>=2.2->seaborn) (3.0.9)\r\n",
      "Requirement already satisfied: pytz>=2017.3 in \/opt\/python\/envs\/default\/lib\/python3.8\/site-packages (from pandas>=0.23->seaborn) (2022.1)\r\n",
      "Requirement already satisfied: six>=1.5 in \/opt\/python\/envs\/default\/lib\/python3.8\/site-packages (from python-dateutil>=2.7->matplotlib>=2.2->seaborn) (1.16.0)\r\n",
      "\u001b[33mWARNING: You are using pip version 21.3.1; however, version 22.2 is available.\r\n",
      "You should consider upgrading via the '\/opt\/python\/envs\/default\/bin\/python -m pip install --upgrade pip' command.\u001b[0m\r\n"
     ],
     "output_type":"stream"
    }
   ],
   "metadata":{
    "datalore":{
     "type":"CODE",
     "hide_input_from_viewers":false,
     "hide_output_from_viewers":false
    }
   }
  },
  {
   "cell_type":"code",
   "source":[
    "data = yf.download('CW8.PA','2016-01-01','2022-07-01')"
   ],
   "execution_count":36,
   "outputs":[
    {
     "name":"stdout",
     "text":[
      "\r[*********************100%***********************]  1 of 1 completed\n"
     ],
     "output_type":"stream"
    }
   ],
   "metadata":{
    "datalore":{
     "type":"CODE",
     "hide_input_from_viewers":false,
     "hide_output_from_viewers":false
    }
   }
  },
  {
   "cell_type":"code",
   "source":[
    "sorted_data = []\n",
    "curr_month = -1\n",
    "sorted_monthly_data = []\n",
    "\n",
    "for index, row in data.iterrows():\n",
    "    average = (row[0] + row[1]) \/ 2\n",
    "    curr_timestamp = str(index)\n",
    "    if curr_month != curr_timestamp.split(\" \")[0].split(\"-\")[1]:\n",
    "        sorted_monthly_data = sorted(sorted_monthly_data, key=lambda d: d['v'])\n",
    "        for d1 in sorted_monthly_data:\n",
    "            created = False\n",
    "            for d2 in sorted_data:\n",
    "                if d2[\"d\"] == d1[\"d\"]:\n",
    "                    created = True\n",
    "                    d2[\"v\"] += d1[\"v\"]\n",
    "                    d2[\"c\"] += 1\n",
    "            if not created:\n",
    "                sorted_data.append({\"d\": d1[\"d\"], \"v\": d1[\"v\"], \"c\": 1})\n",
    "        sorted_monthly_data = []\n",
    "        curr_month = curr_timestamp.split(\" \")[0].split(\"-\")[1]\n",
    "    sorted_monthly_data.append({\"d\": curr_timestamp.split(\" \")[0].split(\"-\")[2], \"v\": average})\n",
    "\n",
    "for d in sorted_data:\n",
    "    d[\"v\"] = d[\"v\"] \/ d[\"c\"]\n",
    "    d.pop(\"c\", None)\n",
    "\n",
    "sorted_data = sorted(sorted_data, key=lambda d: d['v'])\n",
    "print(sorted_data)\n",
    "\n",
    "xd = []\n",
    "yv = []\n",
    "for d in sorted_data:\n",
    "    xd.append(d[\"d\"])\n",
    "    yv.append(d[\"v\"])\n",
    "\n",
    "sns.set(rc={'figure.figsize':(10,3)})\n",
    "\n",
    "sns.lineplot(x=xd, y=yv)\n",
    "plt.show()"
   ],
   "execution_count":45,
   "outputs":[
    {
     "name":"stdout",
     "text":[
      "[{'d': '05', 'v': 283.30577596028644}, {'d': '15', 'v': 284.2177459716797}, {'d': '12', 'v': 284.57293049205435}, {'d': '06', 'v': 284.71826990300957}, {'d': '19', 'v': 285.17013662832755}, {'d': '20', 'v': 285.70566087202593}, {'d': '27', 'v': 286.0282970081676}, {'d': '13', 'v': 286.0292249608923}, {'d': '08', 'v': 286.09112875802174}, {'d': '02', 'v': 286.4713265345647}, {'d': '18', 'v': 286.61502213911575}, {'d': '07', 'v': 286.68852206143464}, {'d': '26', 'v': 286.9020025215897}, {'d': '29', 'v': 286.978448007621}, {'d': '04', 'v': 287.6157932281494}, {'d': '22', 'v': 287.8702461936257}, {'d': '11', 'v': 287.88439410073414}, {'d': '21', 'v': 288.25967726273973}, {'d': '09', 'v': 288.4547023066768}, {'d': '14', 'v': 288.4978117766204}, {'d': '01', 'v': 288.5057816201068}, {'d': '23', 'v': 288.9668952094184}, {'d': '16', 'v': 289.13446920889396}, {'d': '28', 'v': 289.52381741559066}, {'d': '31', 'v': 289.74962662205553}, {'d': '03', 'v': 290.1305406358507}, {'d': '24', 'v': 290.70935199878835}, {'d': '10', 'v': 291.2942938174842}, {'d': '30', 'v': 291.4491656621297}, {'d': '25', 'v': 291.58209081796497}, {'d': '17', 'v': 292.6626755336546}]\n"
     ],
     "output_type":"stream"
    },
    {
     "data":{
      "image\/png":"[encoded data removed]"
     },
     "metadata":{
      "image\/png":{
       
      }
     },
     "output_type":"display_data"
    }
   ],
   "metadata":{
    "datalore":{
     "type":"CODE",
     "hide_input_from_viewers":false,
     "hide_output_from_viewers":false
    }
   }
  }
 ],
 "metadata":{
  "kernelspec":{
   "display_name":"Python",
   "language":"python",
   "name":"python"
  },
  "datalore":{
   "version":1,
   "computation_mode":"JUPYTER",
   "package_manager":"pip",
   "base_environment":"default",
   "packages":[
    
   ]
  }
 },
 "nbformat":4,
 "nbformat_minor":4
}